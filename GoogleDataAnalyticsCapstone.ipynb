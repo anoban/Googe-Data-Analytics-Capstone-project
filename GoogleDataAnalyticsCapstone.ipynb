{
 "cells": [
  {
   "cell_type": "markdown",
   "id": "51d77313-97fd-477e-8bb2-ebe0a3ea5569",
   "metadata": {},
   "source": [
    "# <font color =\"purple\"> **_Google Data Analytics Capstone: Complete a case study_** </font>\n",
    "________________________________________"
   ]
  },
  {
   "cell_type": "markdown",
   "id": "d576f3c4-a17b-4af5-aeb6-749133e31c38",
   "metadata": {},
   "source": [
    "### **A capstone is an end of certificate project**\n",
    "Case studies are like practice data analytics projects.    \n",
    "Potential employers might ask for a case study after a pre-screen call / interview.     \n",
    "Case studies are a common way for employers to assess job skills and gain insight into how you approach common data related challenges.             \n",
    "One might be asked to clean and analyze a dataset, offer a proposal on how to measure the success of a project or to find metrices to measure the success of a specific project.     \n",
    "Case studies often come with a time limit 24 - 48 hours.       \n",
    "This time limit can be a little challenging, but the answer does not have to be perfect!.          \n",
    "What is important is to show off the thought process so the interviewers can understand how you approach a problem.         "
   ]
  },
  {
   "cell_type": "markdown",
   "id": "b24bf157-4d19-4313-a133-0b09b817622d",
   "metadata": {},
   "source": [
    "## **A model data analytics case study might have the following attributes:**     \n",
    "           \n",
    "1) Title - Predicting Employee Attrition Rate      \n",
    "2) Industry focus - HR     \n",
    "3) Problem statement - Predict employee attrition rate in the organization and the factors the push employees to leave the organization   \n",
    "4) Business use case - Predicting individual employee attrition, depicting important factors for an employeee to leave an organization, improving employee retention.\n",
    "5) Goals/metrices - Find the probability for an employee to leave the firm in next 5 years and figure out how to improve employee retention          \n",
    "6) Deliverables - A presentation outlining findings and recommendations    \n",
    "7) Are datasets available - yes   \n",
    "8) Dataset list -      \n",
    "9) URLs to scrape the needed data    \n",
    "\n",
    "### **_One can do case studies on their own and add them to personal portfolio._**     \n",
    "\n",
    "_A portfolio is a collection of case studies that can be shared with potential employers.    \n",
    "Portfolios can be stored on repositories like GitHub, Kaggle, Tableau or in blogs.    \n",
    "Portfolios showcase one's data snalytics skills to employers._"
   ]
  },
  {
   "cell_type": "markdown",
   "id": "234acd40-dfe5-4bff-8b58-5b63fc1aa669",
   "metadata": {},
   "source": [
    "___________________________________        \n",
    "## <font color=\"blue\"> **_Maintaining a journal can be very helpful when dealing with complex data analytics projects, and making it a habit is a good practice even if the projects are small._** </font>\n",
    "____________________________"
   ]
  },
  {
   "cell_type": "markdown",
   "id": "f6130630-fe05-402c-9b35-3a2bb208eb13",
   "metadata": {},
   "source": [
    "## **What employers look for in data analytics?**    \n",
    "\n",
    "_Most companies are data driven.   \n",
    "Every person be it an engineer, marketer, programmer, sysadmin, HR you name it, everyone deals with data in one form or other.     \n",
    "Data analytics isn't just about maths and numbers but has creative thinking as a principle element!        \n",
    "Interviewers look for the interviewee's thought process, not necessarily for all the right answers.  \n",
    "How you think and how you approach problems are more important than answering questions correctly.    \n",
    "Being a data analyst also means being a good story teller. Having cleaned, analyzed datasets one needs to communicate the findings and inferences with the public, stakeholders or business superiors effectively for them to make informed decisions for future. This is often accomplished through elegant and informative data visualizations._"
   ]
  },
  {
   "cell_type": "markdown",
   "id": "b4de1a97-f7ba-4bf2-b959-638b1f70d94c",
   "metadata": {},
   "source": [
    "# <font color=\"red\"> **Case studies: Best Practices** </font>\n",
    "_________________________________________\n",
    "        \n",
    "1) Make sure the case study answers the asked question   \n",
    "2) Communicate the steps taken and the assumptions made    \n",
    "3) Share the documentations of the analyses when appropriate    \n",
    "\n",
    "# <font color = \"red\"> **Portfolios: Best Practices** </font>\n",
    "___________________________________\n",
    "\n",
    "**Best portfolios are personal, unique and simple**    \n",
    "1) Explicitly showing the relation the data analysis has with analyst's personal life    \n",
    "2) Implicit expression of the analyst's personality in data visualizations    \n",
    "3) Do not keep the focus completely on you    \n",
    "4) Making a portfolio personal makes others relate to you and also makes it unique     \n",
    "5) Adding unique and interesting case studies using niche datasets instead of the mainstream textbook datasets can make the portfolio unique and memorable   \n",
    "6) Make sure that the portfolio is relevant and presentable    \n",
    "7) Keep your portfoilo up-to-date"
   ]
  },
  {
   "cell_type": "markdown",
   "id": "b188e729-9bbd-49f9-bdc3-7450963113d1",
   "metadata": {},
   "source": [
    "<font size = 5> **The skills you gain with the Google Data Analytics Certificate align with skills that <font color=\"red\">data analyst jobs </font> require. When you create your resume, the way you present your skills can capture the attention of a recruiter or a hiring manager. Many career counselors recommend that you customize your resume each time you apply for a job so that your experience and skills align as closely as possible with the requirements listed in the job description.** </font>\n",
    "________________________________\n",
    "## For each of the relevant skills in the previous table, consider the following:    \n",
    "&emsp;&emsp;&emsp;&emsp;**Possible phrases from job descriptions         \n",
    "&emsp;&emsp;&emsp;&emsp;Examples of matching skills from this certificate**       \n",
    "\n",
    "## _Let’s go through the skills for data analysts and examine common phrases you might find in job descriptions._"
   ]
  },
  {
   "cell_type": "markdown",
   "id": "ed014626-090a-4db6-961a-1afb8872ac11",
   "metadata": {},
   "source": [
    "## _Skill: database queries_\n",
    "\n",
    "Job description phrase  &rarr; Skills from this program you could include in your resume\n",
    "\n",
    "Collect data by using a scripting language such as SQL &rarr;\n",
    "\t\n",
    "\n",
    "- Perform SQL queries\n",
    "- Sort and filter data using SQL queries\n",
    "- Convert data types using SQL functions \n",
    "\n",
    "## _Skill: data visualization_\n",
    "\n",
    "Job description phrase &rarr; Skills from this program you could include in your resume\n",
    "\n",
    "Visualize data insights and communicate your findings to \n",
    "teams in other organizations\n",
    "\t\n",
    "\n",
    "- Create data visualizations using Tableau\n",
    "- Create visuals in spreadsheets\n",
    "- Create presentations from data analysis results\n",
    "\n",
    "## _Skill: dashboards_\n",
    "\n",
    "Job description phrase  &rarr; Skills from this program you could include in your resume\n",
    "\n",
    "Build and train users of new dashboards\n",
    "\t\n",
    "\n",
    "- Identify the data needs of users\n",
    "- Create dashboards using Tableau\n",
    "- Use design thinking to improve dashboards\n",
    "\n",
    "## _Skill: reports_\n",
    "\n",
    "Job description phrase  &rarr; Skills from this program you could include in your resume\n",
    "\n",
    "Create comprehensive reports\n",
    "\t\n",
    "\n",
    "- Create data cleaning reports\n",
    "- Create and maintain change logs\n",
    "- Create reports in R Markdown \n",
    "\n",
    "## _Skill: spreadsheets_\n",
    "\n",
    "Job description phrase &rarr; Skills from this program you could include in your resume\n",
    "\n",
    "Explore and analyze datasets with spreadsheets\n",
    "\t\n",
    "\n",
    "- Clean data in spreadsheets\n",
    "- Sort and filter data in spreadsheets\n",
    "- Create pivot tables in spreadsheets\n",
    "\n",
    "## _Skill: programming_\n",
    "\n",
    "This is an area where you can potentially distinguish yourself from other candidates when you apply for a data analyst position. Programming is considered a more advanced or higher-level skill and might not even be in a job description for a junior data analyst role. You learned to use R for data analysis as part of this program, and adding programming skills to your resume might make your application stand out.\n",
    "\n",
    "Job description phrase  &rarr; Skills from this program you could include in your resume\n",
    "\n",
    "Knowledge of some programming languages and an organized and methodical approach to work\n",
    "\t\n",
    "\n",
    "- Install and use the tidyverse package in R \n",
    "- Run scripts in RStudio\n",
    "- Create data visualizations in RStudio "
   ]
  }
 ],
 "metadata": {
  "kernelspec": {
   "display_name": "Python 3 (ipykernel)",
   "language": "python",
   "name": "python3"
  },
  "language_info": {
   "codemirror_mode": {
    "name": "ipython",
    "version": 3
   },
   "file_extension": ".py",
   "mimetype": "text/x-python",
   "name": "python",
   "nbconvert_exporter": "python",
   "pygments_lexer": "ipython3",
   "version": "3.9.10"
  }
 },
 "nbformat": 4,
 "nbformat_minor": 5
}
